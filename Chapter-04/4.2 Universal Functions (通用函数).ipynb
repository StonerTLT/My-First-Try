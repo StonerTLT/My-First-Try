{
 "cells": [
  {
   "cell_type": "markdown",
   "metadata": {},
   "source": [
    "# 4.2 Universal Functions: Fast Element-Wise Array Functions（通用函数：快速点对点数组函数）\n",
    "\n",
    "universal function, 或 ufunc, 是用来在ndarray中实现element-wise操作的。\n",
    "\n",
    "可以认为这个ufunc可以把一些简单的函数做快速的向量化封装，输入是一个以上的标量，输出也是一个以上的标量。\n",
    "\n",
    "很多ufuncs都是点对点的变换，像sqrt或exp："
   ]
  },
  {
   "cell_type": "code",
   "execution_count": 76,
   "metadata": {},
   "outputs": [
    {
     "data": {
      "text/plain": [
       "array([0, 1, 2, 3, 4, 5, 6, 7, 8, 9])"
      ]
     },
     "execution_count": 76,
     "metadata": {},
     "output_type": "execute_result"
    }
   ],
   "source": [
    "import numpy as np\n",
    "arr = np.arange(10)\n",
    "arr"
   ]
  },
  {
   "cell_type": "code",
   "execution_count": 77,
   "metadata": {},
   "outputs": [
    {
     "data": {
      "text/plain": [
       "array([ 0.        ,  1.        ,  1.41421356,  1.73205081,  2.        ,\n",
       "        2.23606798,  2.44948974,  2.64575131,  2.82842712,  3.        ])"
      ]
     },
     "execution_count": 77,
     "metadata": {},
     "output_type": "execute_result"
    }
   ],
   "source": [
    "np.sqrt(arr)"
   ]
  },
  {
   "cell_type": "code",
   "execution_count": 78,
   "metadata": {},
   "outputs": [
    {
     "data": {
      "text/plain": [
       "array([  1.00000000e+00,   2.71828183e+00,   7.38905610e+00,\n",
       "         2.00855369e+01,   5.45981500e+01,   1.48413159e+02,\n",
       "         4.03428793e+02,   1.09663316e+03,   2.98095799e+03,\n",
       "         8.10308393e+03])"
      ]
     },
     "execution_count": 78,
     "metadata": {},
     "output_type": "execute_result"
    }
   ],
   "source": [
    "np.exp(arr)"
   ]
  },
  {
   "cell_type": "markdown",
   "metadata": {},
   "source": [
    "这些函数叫做一元通用函数（unary ufuncs）。其他一些函数，比如add或maximum，需要两个数组（binary ufuncs）,并返回一个数组作为结果："
   ]
  },
  {
   "cell_type": "code",
   "execution_count": 79,
   "metadata": {},
   "outputs": [
    {
     "data": {
      "text/plain": [
       "array([ 0.06327671, -0.79625631, -0.93831331,  0.80942918, -0.40459487,\n",
       "       -0.62894547, -0.6221986 ,  0.21423106])"
      ]
     },
     "execution_count": 79,
     "metadata": {},
     "output_type": "execute_result"
    }
   ],
   "source": [
    "x = np.random.randn(8)\n",
    "y = np.random.randn(8)\n",
    "x"
   ]
  },
  {
   "cell_type": "code",
   "execution_count": 80,
   "metadata": {},
   "outputs": [
    {
     "data": {
      "text/plain": [
       "array([-0.6363266 , -0.75177805, -0.0191014 , -1.99955493, -0.23259148,\n",
       "        0.36255693,  0.6617483 ,  1.89638906])"
      ]
     },
     "execution_count": 80,
     "metadata": {},
     "output_type": "execute_result"
    }
   ],
   "source": [
    "y"
   ]
  },
  {
   "cell_type": "code",
   "execution_count": 81,
   "metadata": {},
   "outputs": [
    {
     "data": {
      "text/plain": [
       "array([ 0.06327671, -0.75177805, -0.0191014 ,  0.80942918, -0.23259148,\n",
       "        0.36255693,  0.6617483 ,  1.89638906])"
      ]
     },
     "execution_count": 81,
     "metadata": {},
     "output_type": "execute_result"
    }
   ],
   "source": [
    "np.maximum(x, y)"
   ]
  },
  {
   "cell_type": "markdown",
   "metadata": {},
   "source": [
    "这里mamimum点对点的比较x和y中的元素。\n",
    "\n",
    "尽管不常见，但ufunc也能返回多个数组。例如modf，这是一个向量版的divmod（python内建函数），modf会返回小数部分和整数部分：\n",
    "\n",
    ">本函数是实现a除以b，然后返回商与余数的元组。如果两个参数a,b都是整数，那么会采用整数除法，结果相当于（a//b, a % b)。如果a或b是浮点数，相当于（math.floor(a/b), a%b)。"
   ]
  },
  {
   "cell_type": "code",
   "execution_count": 90,
   "metadata": {},
   "outputs": [
    {
     "data": {
      "text/plain": [
       "array([ -0.62515846,  -2.08128899,   1.66210274,   1.35871674,\n",
       "        -1.12432188,   5.36335202,  11.20860241])"
      ]
     },
     "execution_count": 90,
     "metadata": {},
     "output_type": "execute_result"
    }
   ],
   "source": [
    "arr = np.random.randn(7) * 5\n",
    "arr"
   ]
  },
  {
   "cell_type": "code",
   "execution_count": 91,
   "metadata": {},
   "outputs": [
    {
     "data": {
      "text/plain": [
       "array([-0.62515846, -0.08128899,  0.66210274,  0.35871674, -0.12432188,\n",
       "        0.36335202,  0.20860241])"
      ]
     },
     "execution_count": 91,
     "metadata": {},
     "output_type": "execute_result"
    }
   ],
   "source": [
    "remainder, whole_part = np.modf(arr)\n",
    "remainder"
   ]
  },
  {
   "cell_type": "code",
   "execution_count": 92,
   "metadata": {},
   "outputs": [
    {
     "data": {
      "text/plain": [
       "array([ -0.,  -2.,   1.,   1.,  -1.,   5.,  11.])"
      ]
     },
     "execution_count": 92,
     "metadata": {},
     "output_type": "execute_result"
    }
   ],
   "source": [
    "whole_part"
   ]
  },
  {
   "cell_type": "markdown",
   "metadata": {},
   "source": [
    "ufunc能接受一个可选参数作为输出，这样可以直接更改原有的数组："
   ]
  },
  {
   "cell_type": "code",
   "execution_count": 93,
   "metadata": {},
   "outputs": [
    {
     "data": {
      "text/plain": [
       "array([ -0.62515846,  -2.08128899,   1.66210274,   1.35871674,\n",
       "        -1.12432188,   5.36335202,  11.20860241])"
      ]
     },
     "execution_count": 93,
     "metadata": {},
     "output_type": "execute_result"
    }
   ],
   "source": [
    "arr"
   ]
  },
  {
   "cell_type": "code",
   "execution_count": 94,
   "metadata": {},
   "outputs": [
    {
     "name": "stderr",
     "output_type": "stream",
     "text": [
      "E:\\TLT\\Anaconda\\lib\\site-packages\\ipykernel_launcher.py:1: RuntimeWarning: invalid value encountered in sqrt\n",
      "  \"\"\"Entry point for launching an IPython kernel.\n"
     ]
    },
    {
     "data": {
      "text/plain": [
       "array([        nan,         nan,  1.28922564,  1.16564005,         nan,\n",
       "        2.31589119,  3.34792509])"
      ]
     },
     "execution_count": 94,
     "metadata": {},
     "output_type": "execute_result"
    }
   ],
   "source": [
    "np.sqrt(arr) # 没有改变原有的arr"
   ]
  },
  {
   "cell_type": "code",
   "execution_count": 95,
   "metadata": {},
   "outputs": [
    {
     "data": {
      "text/plain": [
       "array([ -0.62515846,  -2.08128899,   1.66210274,   1.35871674,\n",
       "        -1.12432188,   5.36335202,  11.20860241])"
      ]
     },
     "execution_count": 95,
     "metadata": {},
     "output_type": "execute_result"
    }
   ],
   "source": [
    "arr"
   ]
  },
  {
   "cell_type": "code",
   "execution_count": 97,
   "metadata": {},
   "outputs": [
    {
     "name": "stderr",
     "output_type": "stream",
     "text": [
      "E:\\TLT\\Anaconda\\lib\\site-packages\\ipykernel_launcher.py:1: RuntimeWarning: invalid value encountered in sqrt\n",
      "  \"\"\"Entry point for launching an IPython kernel.\n"
     ]
    },
    {
     "data": {
      "text/plain": [
       "array([        nan,         nan,  1.28922564,  1.16564005,         nan,\n",
       "        2.31589119,  3.34792509])"
      ]
     },
     "execution_count": 97,
     "metadata": {},
     "output_type": "execute_result"
    }
   ],
   "source": [
    "np.sqrt(arr, arr) # 改变了原有的arr"
   ]
  },
  {
   "cell_type": "code",
   "execution_count": 98,
   "metadata": {},
   "outputs": [
    {
     "data": {
      "text/plain": [
       "array([        nan,         nan,  1.28922564,  1.16564005,         nan,\n",
       "        2.31589119,  3.34792509])"
      ]
     },
     "execution_count": 98,
     "metadata": {},
     "output_type": "execute_result"
    }
   ],
   "source": [
    "arr"
   ]
  },
  {
   "cell_type": "markdown",
   "metadata": {},
   "source": [
    "一些一元通用函数：\n",
    "\n",
    "![](../MarkdownPhotos/chp04/屏幕快照 2017-10-25 下午1.19.41.png)\n",
    "\n",
    "\n",
    "\n",
    "一些二元通用函数：\n",
    "![](../MarkdownPhotos/chp04/屏幕快照 2017-10-25 下午1.21.08.png)\n",
    "\n",
    "![](../MarkdownPhotos/chp04/屏幕快照 2017-10-25 下午1.21.42.png)\n",
    "\n"
   ]
  },
  {
   "cell_type": "code",
   "execution_count": 104,
   "metadata": {},
   "outputs": [
    {
     "data": {
      "text/plain": [
       "array([[ 1.,  0.,  0.],\n",
       "       [ 0.,  1.,  0.],\n",
       "       [ 0.,  0.,  1.]])"
      ]
     },
     "execution_count": 104,
     "metadata": {},
     "output_type": "execute_result"
    }
   ],
   "source": [
    "np.eye(3)"
   ]
  },
  {
   "cell_type": "code",
   "execution_count": 100,
   "metadata": {},
   "outputs": [
    {
     "data": {
      "text/plain": [
       "array([[ 0.,  1.,  0.],\n",
       "       [ 0.,  0.,  1.],\n",
       "       [ 0.,  0.,  0.]])"
      ]
     },
     "execution_count": 100,
     "metadata": {},
     "output_type": "execute_result"
    }
   ],
   "source": [
    "np.eye(3,k=1)"
   ]
  },
  {
   "cell_type": "code",
   "execution_count": 105,
   "metadata": {},
   "outputs": [
    {
     "data": {
      "text/plain": [
       "array([[0, 1],\n",
       "       [2, 3]])"
      ]
     },
     "execution_count": 105,
     "metadata": {},
     "output_type": "execute_result"
    }
   ],
   "source": [
    "np.arange(4).reshape(2,2)"
   ]
  },
  {
   "cell_type": "code",
   "execution_count": 103,
   "metadata": {},
   "outputs": [
    {
     "data": {
      "text/plain": [
       "array([[0, 1],\n",
       "       [4, 9]])"
      ]
     },
     "execution_count": 103,
     "metadata": {},
     "output_type": "execute_result"
    }
   ],
   "source": [
    "np.arange(4).reshape(2,2)*np.arange(4).reshape(2,2)"
   ]
  },
  {
   "cell_type": "raw",
   "metadata": {},
   "source": [
    "array.shape                         array的大小\n",
    "array.ndim                          array的纬度，矩阵的秩\n",
    "array.dtype                         array的数据类型\n",
    "numpy.zeros(dim1,dim2)              创建dim1*dim2的零矩阵\n",
    "numpy.arange(n)                  相当于np.array(range(n))，创建一个一维array，range函数的数组版本\n",
    "\n",
    "numpy.eye(n) /numpy.identity(n)     创建n*n单位矩阵\n",
    "numpy.eye(n,k=1)               创建n*n单位矩阵,其中主对角线向上移动1格，使用 np.eye? 查看\n",
    "numpy.empty(dim1,dim2)           创建没有一个具体数值的数组\n",
    "\n",
    "numpy.array([…data…], dtype=float64 )\n",
    "array.astype(numpy.float64)         更换矩阵的数据形式\n",
    "array.astype(float)                 更换矩阵的数据形式\n",
    "array * array                       矩阵点乘,元素级\n",
    "array[a:b]                          切片\n",
    "array.copy()                        得到ndarray的副本，而不是视图\n",
    "array[a][b]== array[a, b]        两者等价\n",
    "\n",
    "name=np.array(['bob','joe','will']) res=name==’bob’ res= array([ True, False, False], dtype=bool)\n",
    "data[True,False,…..]                索引，只索取为True的部分，去掉False部分\n",
    "通过布尔型索引选取数组中的数据，将总是创建数据的副本。\n",
    "\n",
    "data[ [4,3,0,6] ]                   花式索引，将第4,3,0,6行摘取出来，组成新数组\n",
    "data[-1]=data[data.__len__()-1]\n",
    "numpy.reshape(a,b)                  将a*b的一维数组排列为a*b的形式\n",
    "array([a,b,c,d],[d,e,f,g])          返回一维数组，分别为[a,d],[b,e],[c,f],[d,g]\n",
    "array[ [a,b,c,d] ][:,[e,f,g,h] ]=array[ numpy.ix_( [a,b,c,d],[e,f,g,h] ) ]\n",
    "\n",
    "numpy.random.randn(a,b)             生成a*b的随机数组\n",
    "numpy.dot(matrix_1,matrix_2)        矩阵乘法，内积\n",
    "\n",
    "array.T                             array的转置\n",
    "array.transpose( (1,0,2,etc.) )     对于高维数组，转置需要一个由轴编号组成的元组\n",
    "array.swapaxes(0,1)"
   ]
  },
  {
   "cell_type": "raw",
   "metadata": {},
   "source": [
    "一元ufunc\n",
    "numpy.sqrt(array)                   平方根函数   \n",
    "numpy.exp(array)                    e^array[i]的数组\n",
    "numpy.abs/fabs(array)               计算绝对值\n",
    "numpy.square(array)                 计算各元素的平方 等于array**2\n",
    "numpy.log/log10/log2(array)         计算各元素的各种对数\n",
    "numpy.sign(array)                   计算各元素正负号\n",
    "numpy.isnan(array)                  计算各元素是否为NaN\n",
    "numpy.cos/cosh/sin/sinh/tan/tanh(array)    三角函数\n",
    "numpy.modf(array)                   将array中值得整数和小数分离，作两个数组返回\n",
    "\n",
    "二元ufunc\n",
    "numpy.add(array1,array2)            元素级加法\n",
    "numpy.subtract(array1,array2)       元素级减法\n",
    "numpy.multiply(array1,array2)       元素级乘法\n",
    "numpy.divide(array1,array2)         元素级除法 array1./array2\n",
    "numpy.power(array1,array2)          元素级指数 array1.^array2\n",
    "numpy.maximum/minimum(array1,aray2) 元素级最大值\n",
    "numpy.fmax/fmin(array1,array2)      元素级最大值，忽略NaN\n",
    "numpy.mod(array1,array2)            元素级求模\n",
    "numpy.copysign(array1,array2)       将第二个数组中值得符号复制给第一个数组中值\n",
    "numpy.greater/greater_equal/less/less_equal/equal/not_equal (array1,array2)\n",
    "元素级比较运算，产生布尔数组\n",
    "numpy.logical_end/logical_or/logic_xor(array1,array2)元素级的真值逻辑运算"
   ]
  }
 ],
 "metadata": {
  "kernelspec": {
   "display_name": "Python 2",
   "language": "python",
   "name": "python2"
  },
  "language_info": {
   "codemirror_mode": {
    "name": "ipython",
    "version": 2
   },
   "file_extension": ".py",
   "mimetype": "text/x-python",
   "name": "python",
   "nbconvert_exporter": "python",
   "pygments_lexer": "ipython2",
   "version": "2.7.13"
  }
 },
 "nbformat": 4,
 "nbformat_minor": 1
}
